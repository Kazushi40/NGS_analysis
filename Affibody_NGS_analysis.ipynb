{
 "cells": [
  {
   "cell_type": "code",
   "execution_count": 20,
   "metadata": {},
   "outputs": [],
   "source": [
    "#Author: Kazushi Suzuki and Yoshihiro Shimizu\n",
    "#Revised: 2020-09-01 \n",
    "#Reference: \n",
    "#Purpose: Analysis of next generation sequencing data for an Affibody library\n",
    "#Data\n",
    "#Raw data was deposited into the Squence Read Archive (SRA) of the U.S. National Library of Medicine from the National Center for Biotechnoly Information (NCBI) \n",
    "#Accession numbers: \n",
    "#\n",
    "#\n",
    "#\n",
    "#"
   ]
  },
  {
   "cell_type": "code",
   "execution_count": 23,
   "metadata": {},
   "outputs": [],
   "source": [
    "### basic \n",
    "import re\n",
    "import regex\n",
    "import numpy as np\n",
    "import pandas as pd\n",
    "import os\n",
    "\n",
    "### handling of sequence data\n",
    "from Bio.Seq import Seq                         \n",
    "from Bio import SeqIO\n",
    "from Bio.Alphabet import IUPAC     "
   ]
  },
  {
   "cell_type": "code",
   "execution_count": 25,
   "metadata": {
    "scrolled": false
   },
   "outputs": [
    {
     "name": "stdout",
     "output_type": "stream",
     "text": [
      "CPU times: user 12min 5s, sys: 6.97 s, total: 12min 12s\n",
      "Wall time: 12min 12s\n"
     ]
    }
   ],
   "source": [
    "%%time\n",
    "# input-file and output-file location\n",
    "indir=\"./raw_data/\"\n",
    "outdir=\"./\"\n",
    "\n",
    "### sequences which identify region of interest \n",
    "Start = \"GTTGACAACA\"\n",
    "End = \"CCTTCTCAGTC\"\n",
    "\n",
    "filenames=os.listdir(indir)\n",
    "for i in range(len(filenames)):\n",
    "    Affibody_protein={}\n",
    "    if (filenames[i][-5:]=='fastq'):\n",
    "        for record in SeqIO.parse(indir+filenames[i], \"fastq\") :\n",
    "            recordqual=[x>21 for x in record.letter_annotations['phred_quality']] \n",
    "             #only process reads that have more than half of basecalls >Q21\n",
    "            if  (float(sum(recordqual))/float(len(recordqual))>=.5): \n",
    "                recordseq=\"\".join([y if x else 'N' for (x,y) in zip(recordqual, record.seq)]) \n",
    "                if (recordseq.find(Start)>0) and (recordseq.find(End)>0):\n",
    "                    Start_index = recordseq.find(Start) \n",
    "                    End_index = recordseq.find(End) + len(End)\n",
    "                    Affibody_cds = Seq(recordseq[Start_index:End_index], IUPAC.ambiguous_dna)\n",
    "                    #translates DNA \n",
    "                    if (len(Affibody_cds) == 122) :\n",
    "                        Affibody_protein[record.id] = Affibody_cds.translate()\n",
    "        \n",
    "    Counts=pd.DataFrame(Affibody_protein.items(), columns=['ID', 'CDRs'])\n",
    "    Counts=Counts.groupby('CDRs').count().sort_values('ID', ascending=False)\n",
    "    Counts.to_csv(outdir+filenames[i].strip('.fastq')+'.csv') "
   ]
  },
  {
   "cell_type": "code",
   "execution_count": 27,
   "metadata": {},
   "outputs": [],
   "source": [
    "df_FR6 = pd.read_csv('i-FR6_S10_L001_R1_001.csv', header=0)\n",
    "df_R6 = pd.read_csv('i-R6_S11_L001_R1_001.csv', header=0)"
   ]
  },
  {
   "cell_type": "code",
   "execution_count": 28,
   "metadata": {},
   "outputs": [],
   "source": [
    "Df = pd.merge(df_R6, df_FR6, on='CDRs', how='outer')\n",
    "Df = Df.query('not CDRs.str.contains(\"X\")', engine='python')\n",
    "Df = Df.fillna(0)\n",
    "Df.columns = ['CDRs', 'R6', 'FR6']\n",
    "Df = Df[Df['FR6']==0]\n",
    "Df.to_csv(outdir+\"Summary\"+'.csv') "
   ]
  }
 ],
 "metadata": {
  "kernelspec": {
   "display_name": "Python 2",
   "language": "python",
   "name": "python2"
  },
  "language_info": {
   "codemirror_mode": {
    "name": "ipython",
    "version": 2
   },
   "file_extension": ".py",
   "mimetype": "text/x-python",
   "name": "python",
   "nbconvert_exporter": "python",
   "pygments_lexer": "ipython2",
   "version": "2.7.16"
  }
 },
 "nbformat": 4,
 "nbformat_minor": 2
}
