{
 "cells": [
  {
   "cell_type": "code",
   "execution_count": 1,
   "metadata": {},
   "outputs": [],
   "source": [
    "#Author: Kazushi Suzuki and Yoshihiro Shimizu\n",
    "#Revised: 2020-09-10\n",
    "#Reference: \n",
    "#Purpose: Analysis of next generation sequencing data for an Affibody library\n",
    "#Data\n",
    "#Raw data was deposited into the the DDBJ Sequence Read Archive. \n",
    "#Accession numbers: \n",
    "#DRR243933\n",
    "#DRR243934"
   ]
  },
  {
   "cell_type": "code",
   "execution_count": 2,
   "metadata": {},
   "outputs": [],
   "source": [
    "### basic \n",
    "import numpy as np\n",
    "import pandas as pd\n",
    "import os\n",
    "\n",
    "### handling of sequence data\n",
    "from Bio.Seq import Seq                         \n",
    "from Bio import SeqIO\n",
    "from Bio.Alphabet import IUPAC     "
   ]
  },
  {
   "cell_type": "code",
   "execution_count": 3,
   "metadata": {
    "scrolled": false
   },
   "outputs": [
    {
     "name": "stderr",
     "output_type": "stream",
     "text": [
      "//anaconda2/lib/python2.7/site-packages/Bio/Seq.py:2715: BiopythonWarning: Partial codon, len(sequence) not a multiple of three. Explicitly trim the sequence or add trailing N before translation. This may become an error in future.\n",
      "  BiopythonWarning)\n",
      "//anaconda2/lib/python2.7/site-packages/Bio/Seq.py:175: BiopythonWarning: Biopython Seq objects now use string comparison. Older versions of Biopython used object comparison. During this transition, please use hash(id(my_seq)) or my_dict[id(my_seq)] if you want the old behaviour, or use hash(str(my_seq)) or my_dict[str(my_seq)] for the new string hashing behaviour.\n",
      "  \"the new string hashing behaviour.\", BiopythonWarning)\n"
     ]
    },
    {
     "name": "stdout",
     "output_type": "stream",
     "text": [
      "CPU times: user 12min 38s, sys: 6.52 s, total: 12min 45s\n",
      "Wall time: 12min 58s\n"
     ]
    }
   ],
   "source": [
    "%%time\n",
    "# input-file and output-file location\n",
    "indir=\"./raw_data/\"\n",
    "outdir=\"./\"\n",
    "\n",
    "### sequences which identify region of interest \n",
    "Start = \"GTTGACAACA\"\n",
    "End = \"CCTTCTCAGTC\"\n",
    "\n",
    "filenames=os.listdir(indir)\n",
    "for i in range(len(filenames)):\n",
    "    Affibody_protein={}\n",
    "    if (filenames[i][-12:]=='R1_001.fastq'):\n",
    "        for record in SeqIO.parse(indir+filenames[i], \"fastq\") :\n",
    "            recordqual=[x>21 for x in record.letter_annotations['phred_quality']] \n",
    "             #only process reads that have more than half of basecalls >Q21\n",
    "            if  (float(sum(recordqual))/float(len(recordqual))>=.5): \n",
    "                recordseq=\"\".join([y if x else 'N' for (x,y) in zip(recordqual, record.seq)]) \n",
    "                if (recordseq.find(Start)>0) and (recordseq.find(End)>0):\n",
    "                    Start_index = recordseq.find(Start) \n",
    "                    End_index = recordseq.find(End) + len(End)\n",
    "                    Affibody_cds = Seq(recordseq[Start_index:End_index], IUPAC.ambiguous_dna)\n",
    "                    #translates DNA \n",
    "                    if (len(Affibody_cds) == 122) :\n",
    "                        Affibody_protein[record.id] = Affibody_cds.translate()\n",
    "        \n",
    "    Counts=pd.DataFrame(Affibody_protein.items(), columns=['ID', 'CDRs'])\n",
    "    Counts=Counts.groupby('CDRs').count().sort_values('ID', ascending=False)\n",
    "    Counts.to_csv(outdir+filenames[i].strip('.fastq')+'.csv') "
   ]
  },
  {
   "cell_type": "code",
   "execution_count": 4,
   "metadata": {},
   "outputs": [],
   "source": [
    "df_FR6 = pd.read_csv('i-FR6_S10_L001_R1_001.csv', header=0)\n",
    "df_R6 = pd.read_csv('i-R6_S11_L001_R1_001.csv', header=0)"
   ]
  },
  {
   "cell_type": "code",
   "execution_count": 5,
   "metadata": {},
   "outputs": [],
   "source": [
    "Df = pd.merge(df_R6, df_FR6, on='CDRs', how='outer')\n",
    "Df = Df.query('not CDRs.str.contains(\"X\")', engine='python')\n",
    "Df = Df.fillna(0)\n",
    "Df.columns = ['CDRs', 'R6', 'FR6']\n",
    "Df = Df[Df['FR6']==0]\n",
    "Df.to_csv(outdir+\"Summary\"+'.csv') "
   ]
  },
  {
   "cell_type": "code",
   "execution_count": null,
   "metadata": {},
   "outputs": [],
   "source": []
  }
 ],
 "metadata": {
  "kernelspec": {
   "display_name": "Python 2",
   "language": "python",
   "name": "python2"
  },
  "language_info": {
   "codemirror_mode": {
    "name": "ipython",
    "version": 2
   },
   "file_extension": ".py",
   "mimetype": "text/x-python",
   "name": "python",
   "nbconvert_exporter": "python",
   "pygments_lexer": "ipython2",
   "version": "2.7.16"
  }
 },
 "nbformat": 4,
 "nbformat_minor": 2
}
